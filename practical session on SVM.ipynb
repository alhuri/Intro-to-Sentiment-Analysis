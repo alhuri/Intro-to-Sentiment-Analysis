{
  "cells": [
    {
      "cell_type": "code",
      "execution_count": null,
      "metadata": {
        "id": "InOMdyksL5P7"
      },
      "outputs": [],
      "source": [
        "import pandas as pd\n",
        "import numpy as np \n",
        "import matplotlib.pyplot as plt\n",
        "import time\n",
        "from sklearn.feature_extraction.text import CountVectorizer, TfidfVectorizer\n",
        "from sklearn import model_selection, svm , naive_bayes\n",
        "from sklearn.naive_bayes import ComplementNB , BernoulliNB,GaussianNB,MultinomialNB\n",
        "from sklearn.linear_model import LogisticRegression\n",
        "from sklearn.ensemble import RandomForestClassifier\n",
        "from sklearn.tree import DecisionTreeClassifier \n",
        "from sklearn.metrics import accuracy_score,balanced_accuracy_score,average_precision_score,f1_score,recall_score,classification_report\n",
        "from sklearn.pipeline import Pipeline\n",
        "from sklearn.metrics import mean_squared_error\n",
        "\n",
        "from sklearn.model_selection import GridSearchCV\n",
        "import pickle"
      ]
    },
    {
      "cell_type": "markdown",
      "metadata": {
        "id": "fnoRKp43L5QK"
      },
      "source": [
        "# Linear SVM model"
      ]
    },
    {
      "cell_type": "code",
      "execution_count": null,
      "metadata": {
        "colab": {
          "base_uri": "https://localhost:8080/",
          "height": 415
        },
        "id": "rXzLCSCiSNro",
        "outputId": "3f60745d-f74d-47a0-dfd6-31a6bf7c0a17"
      },
      "outputs": [],
      "source": [
        "train=pd.read_csv(r'/content/dataset.csv', encoding='utf-8')\n",
        "train"
      ]
    },
    {
      "cell_type": "code",
      "execution_count": null,
      "metadata": {
        "colab": {
          "base_uri": "https://localhost:8080/"
        },
        "id": "9COKXeehL5QN",
        "outputId": "0826d48a-ec2e-4514-f17d-3f9235fbcc2c"
      },
      "outputs": [
        {
          "data": {
            "text/plain": [
              "1520     الاختيار بيدك الزم بيتك كلنا مسؤول نعي لنقي و...\n",
              "7331     نبيها صفر يارب يختفي هالمرض قبل رمضان  ونصلي ...\n",
              "5321     جميل  الدراسه مستمره التعليم عن بعد تعليم صبي...\n",
              "6725     لا يظهر الوباء في قوم الا لكثره ذنوبهم او لفج...\n",
              "6657     كوريا الجنوبيه الدوله الوحيده التي ما عملت حظ...\n",
              "                              ...                        \n",
              "7935    مباشره الوضع حاليا في احد المحلات التجاريه في ...\n",
              "5192                   تقوي اله امان لك ولذريتك حظر كامل \n",
              "3980     اليوم في تمام مساء علي المنصه الانستغرام في ا...\n",
              "235              ابطال الصحه كان تكون صباره وامنيتك عناق \n",
              "5157     تفصيل حسب الطلب نبتكر ونفذ ماترغب به عليك الا...\n",
              "Name: Tweets, Length: 7200, dtype: object"
            ]
          },
          "execution_count": 3,
          "metadata": {
            "tags": []
          },
          "output_type": "execute_result"
        }
      ],
      "source": [
        "# Split the dataset\n",
        "Train_X, Test_X, Train_Y, Test_Y = model_selection.train_test_split(train[\"Tweets\"],train[\"sentiment\"],random_state=1,test_size=0.10)\n",
        "\n",
        "Train_X"
      ]
    },
    {
      "cell_type": "code",
      "execution_count": null,
      "metadata": {
        "colab": {
          "base_uri": "https://localhost:8080/"
        },
        "id": "vRcHDwecPplD",
        "outputId": "bf230600-8373-4b7a-dd26-994967f266b2"
      },
      "outputs": [
        {
          "data": {
            "text/plain": [
              "<7200x20000 sparse matrix of type '<class 'numpy.int64'>'\n",
              "\twith 118002 stored elements in Compressed Sparse Row format>"
            ]
          },
          "execution_count": 4,
          "metadata": {
            "tags": []
          },
          "output_type": "execute_result"
        }
      ],
      "source": [
        "# Feature extraction\n",
        "vectorizer = CountVectorizer(max_features=20000,decode_error=\"ignore\")\n",
        "Train_X= vectorizer.fit_transform(Train_X)\n",
        "Test_X = vectorizer.transform(Test_X)\n",
        "\n",
        "Train_X"
      ]
    },
    {
      "cell_type": "code",
      "execution_count": null,
      "metadata": {
        "colab": {
          "base_uri": "https://localhost:8080/"
        },
        "id": "2z9IFUANL5QZ",
        "outputId": "4d5ebda2-7e34-4326-ac12-bfd3bad3c6ed"
      },
      "outputs": [
        {
          "name": "stdout",
          "output_type": "stream",
          "text": [
            "The elapsed time  0.06572175025939941\n"
          ]
        }
      ],
      "source": [
        "# Linear SVM Classifier\n",
        "clf=svm.LinearSVC(C=0.1)\n",
        "\n",
        "start = time.time()\n",
        "# fit the training dataset on the classifier\n",
        "clf.fit(Train_X, Train_Y)\n",
        "\n",
        "end = time.time()\n",
        "#Print the elapsed time for training the model\n",
        "print(\"The elapsed time \", end - start)\n",
        "\n"
      ]
    },
    {
      "cell_type": "code",
      "execution_count": null,
      "metadata": {
        "colab": {
          "base_uri": "https://localhost:8080/"
        },
        "id": "i6c5OvTYL5Qg",
        "outputId": "872d99bb-7433-4a47-dec9-1bfd941f85d0"
      },
      "outputs": [
        {
          "name": "stdout",
          "output_type": "stream",
          "text": [
            "f1 Score ->  84.625\n",
            "recall Score ->  84.625\n",
            "balanced Accuracy Score ->  84.6137254534201\n"
          ]
        }
      ],
      "source": [
        "# predict the labels on test dataset\n",
        "clf_predictions=clf.predict(Test_X)\n",
        "\n",
        "# Use accuracy_score function to get the accuracy\n",
        "print(\"f1 Score -> \",f1_score(Test_Y,clf_predictions,average='micro')*100)\n",
        "print(\"recall Score -> \",recall_score(Test_Y,clf_predictions,average='micro')*100)\n",
        "print(\"balanced Accuracy Score -> \",balanced_accuracy_score(Test_Y,clf_predictions)*100)"
      ]
    },
    {
      "cell_type": "code",
      "execution_count": null,
      "metadata": {
        "colab": {
          "base_uri": "https://localhost:8080/"
        },
        "id": "0gzBxrHaL5Qq",
        "outputId": "4e034e03-00b8-4546-adc1-b5795b6a22b0"
      },
      "outputs": [
        {
          "data": {
            "text/plain": [
              "LinearSVC(C=0.1, class_weight=None, dual=True, fit_intercept=True,\n",
              "          intercept_scaling=1, loss='squared_hinge', max_iter=1000,\n",
              "          multi_class='ovr', penalty='l2', random_state=None, tol=0.0001,\n",
              "          verbose=0)"
            ]
          },
          "execution_count": 7,
          "metadata": {
            "tags": []
          },
          "output_type": "execute_result"
        }
      ],
      "source": [
        "filename = 'finalized_model.pkl'\n",
        "pickle.dump(clf, open(filename, 'wb'))\n",
        "\n",
        "with open(filename, 'rb') as file:  \n",
        "    Pickled_LR_Model = pickle.load(file)\n",
        "\n",
        "Pickled_LR_Model"
      ]
    },
    {
      "cell_type": "code",
      "execution_count": null,
      "metadata": {
        "id": "WzW9H8MpL5Qz"
      },
      "outputs": [],
      "source": [
        "#Predicting on a new sample and saving the results in csv format\n",
        "sample_sub=pd.read_csv(r'/content/Clean2020-04-01.csv', encoding='utf-8')\n",
        "Final = vectorizer.transform(sample_sub['Tweets'])\n",
        "\n",
        "y_pre=Pickled_LR_Model.predict(Final)\n",
        "sub=pd.DataFrame({'Tweets':sample_sub['Tweets'].values.tolist(),'sentiment':y_pre})\n",
        "sub.to_csv(r'SVM.csv',encoding= 'utf-8-sig',index=False)"
      ]
    }
  ],
  "metadata": {
    "colab": {
      "name": "SVM.ipynb",
      "provenance": []
    },
    "kernelspec": {
      "display_name": "Python 3",
      "language": "python",
      "name": "python3"
    },
    "language_info": {
      "codemirror_mode": {
        "name": "ipython",
        "version": 3
      },
      "file_extension": ".py",
      "mimetype": "text/x-python",
      "name": "python",
      "nbconvert_exporter": "python",
      "pygments_lexer": "ipython3",
      "version": "3.7.9"
    }
  },
  "nbformat": 4,
  "nbformat_minor": 0
}
